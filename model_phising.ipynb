{
 "cells": [
  {
   "cell_type": "markdown",
   "metadata": {},
   "source": [
    "## import library"
   ]
  },
  {
   "cell_type": "code",
   "execution_count": 1,
   "metadata": {},
   "outputs": [
    {
     "name": "stdout",
     "output_type": "stream",
     "text": [
      "Using TensorFlow backend\n"
     ]
    },
    {
     "name": "stderr",
     "output_type": "stream",
     "text": [
      "C:\\Users\\RanggaSaputra\\AppData\\Local\\Temp\\ipykernel_21792\\355776025.py:40: DeprecationWarning: `import kerastuner` is deprecated, please use `import keras_tuner`.\n",
      "  from kerastuner import HyperModel\n"
     ]
    }
   ],
   "source": [
    "# Standard library imports\n",
    "import os\n",
    "import sys\n",
    "from collections import Counter\n",
    "from tempfile import NamedTemporaryFile\n",
    "from urllib.parse import urlparse, unquote\n",
    "from urllib.request import urlopen\n",
    "from urllib.error import HTTPError\n",
    "from zipfile import ZipFile\n",
    "import tarfile\n",
    "import shutil\n",
    "\n",
    "# Third-party imports for data manipulation and analysis\n",
    "import numpy as np\n",
    "import pandas as pd\n",
    "import re\n",
    "from sklearn.model_selection import train_test_split\n",
    "from sklearn.feature_extraction.text import TfidfVectorizer\n",
    "from sklearn.preprocessing import LabelEncoder\n",
    "from sklearn.metrics import f1_score, accuracy_score, precision_score, recall_score, confusion_matrix\n",
    "\n",
    "# Third-party imports for natural language processing\n",
    "import nltk\n",
    "from nltk.util import ngrams\n",
    "from nltk.tokenize import word_tokenize\n",
    "from nltk.corpus import stopwords\n",
    "from nltk.stem import WordNetLemmatizer\n",
    "from tensorflow.keras.layers import TextVectorization\n",
    "\n",
    "# Third-party imports for deep learning\n",
    "import tensorflow as tf\n",
    "from tensorflow import keras\n",
    "from tensorflow.keras import layers, models, optimizers, callbacks, metrics\n",
    "from tensorflow.keras.callbacks import EarlyStopping\n",
    "from tensorflow.keras.metrics import Precision, Recall\n",
    "from tensorflow.keras.preprocessing.text import Tokenizer\n",
    "from tensorflow.keras.preprocessing.sequence import pad_sequences\n",
    "from tensorflow.keras.utils import to_categorical\n",
    "import keras_tuner\n",
    "from kerastuner import HyperModel\n",
    "from kerastuner.tuners import Hyperband\n",
    "from tensorflow.keras.metrics import Precision, Recall\n",
    "\n",
    "# Third-party imports for data visualization\n",
    "import matplotlib.pyplot as plt\n",
    "import seaborn as sns\n",
    "from prettytable import PrettyTable"
   ]
  },
  {
   "cell_type": "markdown",
   "metadata": {},
   "source": [
    "## load data"
   ]
  },
  {
   "cell_type": "code",
   "execution_count": 2,
   "metadata": {},
   "outputs": [],
   "source": [
    "# inisialisasi path\n",
    "path_data = './look-before-you-leap/'"
   ]
  },
  {
   "cell_type": "code",
   "execution_count": 3,
   "metadata": {},
   "outputs": [
    {
     "name": "stdout",
     "output_type": "stream",
     "text": [
      "URL Dataset:\n",
      "  Category                                               Data\n",
      "0     spam  logtelstra2021.ddnsking.com/0dfa1b53b835500696...\n",
      "1     spam  dvsber.ru/modules/mod_ariimageslidersa/KRENK3N...\n",
      "2     spam  kimsinc564.000webhostapp.com/notification.php?...\n",
      "3     spam                                     benjim.com/all\n",
      "4     spam                    www.m.micesrunescape.com-we.ru/\n",
      "\n",
      "HTML Dataset:\n",
      "  Category                                               Data\n",
      "0     spam  <!DOCTYPE html>', '', '<html>', '<head>', '<me...\n",
      "1     spam  <!DOCTYPE html><html dir=\"ltr\" lang=\"en\"><head...\n",
      "2     spam  <!DOCTYPE html PUBLIC \"-//W3C//DTD XHTML 1.0 T...\n",
      "3     spam  <meta content=\"1; URL=\\'https://segurancaitauo...\n",
      "4     spam  <!DOCTYPE HTML PUBLIC \"-//W3C//DTD HTML 4.01//...\n"
     ]
    }
   ],
   "source": [
    "# Load URL dataset\n",
    "url_df = pd.read_excel(path_data+'URL.xlsx')\n",
    "\n",
    "# Load HTML dataset\n",
    "html_df = pd.read_excel(path_data+'html.xlsx')\n",
    "\n",
    "# menampilkan dataset\n",
    "print(\"URL Dataset:\")\n",
    "print(url_df.head())\n",
    "print(\"\\nHTML Dataset:\")\n",
    "print(html_df.head())"
   ]
  },
  {
   "cell_type": "markdown",
   "metadata": {},
   "source": [
    "## EDA"
   ]
  },
  {
   "cell_type": "markdown",
   "metadata": {},
   "source": [
    "###  info dasar data"
   ]
  },
  {
   "cell_type": "code",
   "execution_count": 4,
   "metadata": {},
   "outputs": [
    {
     "name": "stdout",
     "output_type": "stream",
     "text": [
      "<class 'pandas.core.frame.DataFrame'>\n",
      "RangeIndex: 45373 entries, 0 to 45372\n",
      "Data columns (total 2 columns):\n",
      " #   Column    Non-Null Count  Dtype \n",
      "---  ------    --------------  ----- \n",
      " 0   Category  45373 non-null  object\n",
      " 1   Data      45373 non-null  object\n",
      "dtypes: object(2)\n",
      "memory usage: 709.1+ KB\n"
     ]
    }
   ],
   "source": [
    "url_df.info()"
   ]
  },
  {
   "cell_type": "code",
   "execution_count": 5,
   "metadata": {},
   "outputs": [
    {
     "name": "stdout",
     "output_type": "stream",
     "text": [
      "<class 'pandas.core.frame.DataFrame'>\n",
      "RangeIndex: 45373 entries, 0 to 45372\n",
      "Data columns (total 2 columns):\n",
      " #   Column    Non-Null Count  Dtype \n",
      "---  ------    --------------  ----- \n",
      " 0   Category  45373 non-null  object\n",
      " 1   Data      45373 non-null  object\n",
      "dtypes: object(2)\n",
      "memory usage: 709.1+ KB\n"
     ]
    }
   ],
   "source": [
    "html_df.info()"
   ]
  },
  {
   "cell_type": "code",
   "execution_count": 6,
   "metadata": {},
   "outputs": [
    {
     "name": "stdout",
     "output_type": "stream",
     "text": [
      "Banyak baris dataset url 45373 dan kolom 2\n",
      "Banyak baris dataset html 45373 dan kolom 2\n"
     ]
    }
   ],
   "source": [
    "print(f'Banyak baris dataset url {url_df.shape[0]} dan kolom {url_df.shape[1]}')\n",
    "print(f'Banyak baris dataset html {html_df.shape[0]} dan kolom {html_df.shape[1]}')"
   ]
  },
  {
   "cell_type": "markdown",
   "metadata": {},
   "source": [
    "### missing value cek"
   ]
  },
  {
   "cell_type": "code",
   "execution_count": 7,
   "metadata": {},
   "outputs": [
    {
     "name": "stdout",
     "output_type": "stream",
     "text": [
      "\n",
      "Missing Values URL Dataset:\n",
      "Category    0\n",
      "Data        0\n",
      "dtype: int64\n",
      "\n",
      "Missing Values HTML Dataset:\n",
      "Category    0\n",
      "Data        0\n",
      "dtype: int64\n"
     ]
    }
   ],
   "source": [
    "print(\"\\nMissing Values URL Dataset:\")\n",
    "print(url_df.isnull().sum())\n",
    "print(\"\\nMissing Values HTML Dataset:\")\n",
    "print(html_df.isnull().sum())"
   ]
  },
  {
   "cell_type": "markdown",
   "metadata": {},
   "source": [
    "tidak ada nilai miss"
   ]
  },
  {
   "cell_type": "markdown",
   "metadata": {},
   "source": [
    "### sebaran nilai kategori"
   ]
  },
  {
   "cell_type": "code",
   "execution_count": 8,
   "metadata": {},
   "outputs": [
    {
     "name": "stdout",
     "output_type": "stream",
     "text": [
      "\n",
      "Sebaran kategori di URL Dataset:\n",
      "ham     22687\n",
      "spam    22686\n",
      "Name: Category, dtype: int64\n",
      "\n",
      "Sebaran kategori di HTML Dataset:\n",
      "ham     22687\n",
      "spam    22686\n",
      "Name: Category, dtype: int64\n"
     ]
    }
   ],
   "source": [
    "# Value Counts\n",
    "print(\"\\nSebaran kategori di URL Dataset:\")\n",
    "print(url_df['Category'].value_counts())\n",
    "print(\"\\nSebaran kategori di HTML Dataset:\")\n",
    "print(html_df['Category'].value_counts())"
   ]
  },
  {
   "cell_type": "markdown",
   "metadata": {},
   "source": [
    "### visualisasi sebaran nilai kategori"
   ]
  },
  {
   "cell_type": "code",
   "execution_count": 9,
   "metadata": {},
   "outputs": [
    {
     "data": {
      "image/png": "[encoded data removed]",
      "text/plain": [
       "<Figure size 1600x600 with 2 Axes>"
      ]
     },
     "metadata": {},
     "output_type": "display_data"
    }
   ],
   "source": [
    "\n",
    "# Set up the figure and axes for subplots\n",
    "fig, axes = plt.subplots(nrows=1, ncols=2, figsize=(16, 6))\n",
    "\n",
    "# Customized color palette\n",
    "color_palette = ['red', 'blue']\n",
    "\n",
    "# Plot for HTML dataset\n",
    "sns.countplot(x='Category', data=html_df, palette=color_palette, ax=axes[0])\n",
    "axes[0].set_title('Distribution of Categories in HTML Dataset', fontweight='bold')\n",
    "\n",
    "# Add exact values on top of the bars\n",
    "for p in axes[0].patches:\n",
    "    axes[0].annotate(format(p.get_height(), '.0f'),\n",
    "                (p.get_x() + p.get_width() / 2., p.get_height()),\n",
    "                ha = 'center',\n",
    "                va = 'center',\n",
    "                xytext = (0, 10),\n",
    "                textcoords = 'offset points')\n",
    "\n",
    "axes[0].set_ylim(0, max([p.get_height() for p in axes[0].patches])*1.1)\n",
    "\n",
    "# Plot for URL dataset\n",
    "sns.countplot(x='Category', data=url_df, palette=color_palette, ax=axes[1])\n",
    "axes[1].set_title('Distribution of Categories in URL Dataset', fontweight='bold')\n",
    "\n",
    "# Add exact values on top of the bars\n",
    "for p in axes[1].patches:\n",
    "    axes[1].annotate(format(p.get_height(), '.0f'),\n",
    "                (p.get_x() + p.get_width() / 2., p.get_height()),\n",
    "                ha = 'center',\n",
    "                va = 'center',\n",
    "                xytext = (0, 10),\n",
    "                textcoords = 'offset points')\n",
    "\n",
    "axes[1].set_ylim(0, max([p.get_height() for p in axes[1].patches])*1.1)\n",
    "\n",
    "# Adjust layout to prevent overlap\n",
    "plt.tight_layout()\n",
    "\n",
    "# Show the plot\n",
    "plt.show()"
   ]
  },
  {
   "cell_type": "markdown",
   "metadata": {},
   "source": [
    "Dataset ini termasuk ke dalam data yang balance, karena ini terlihat dari perbedaan antara kategori <b>phising (spam)</b> dan kategori <b>non-phishing (ham)</b> hanya terdapat pada <b>satu data saja"
   ]
  },
  {
   "cell_type": "markdown",
   "metadata": {},
   "source": [
    "### visualisasi panjang fitur"
   ]
  },
  {
   "cell_type": "code",
   "execution_count": 10,
   "metadata": {},
   "outputs": [
    {
     "data": {
      "image/png": "[encoded data removed]",
      "text/plain": [
       "<Figure size 1600x600 with 2 Axes>"
      ]
     },
     "metadata": {},
     "output_type": "display_data"
    }
   ],
   "source": [
    "# URL Length Analysis\n",
    "url_df['url_length'] = url_df['Data'].apply(len)\n",
    "\n",
    "# HTML Content Length Analysis\n",
    "html_df['content_length'] = html_df['Data'].apply(len)\n",
    "\n",
    "plt.figure(figsize=(16, 6))\n",
    "\n",
    "# URL Length Analysis\n",
    "plt.subplot(1, 2, 1)\n",
    "sns.boxplot(x='Category', y='url_length', data=url_df)\n",
    "plt.title('URL Length by Category', fontweight=\"bold\")\n",
    "\n",
    "# HTML Content Length Analysis\n",
    "plt.subplot(1, 2, 2)\n",
    "sns.boxplot(x='Category', y='content_length', data=html_df)\n",
    "plt.title('HTML Content Length by Category', fontweight=\"bold\")\n",
    "\n",
    "# Adjust layout to prevent overlap\n",
    "plt.tight_layout()\n",
    "\n",
    "# Show the plot\n",
    "plt.show()\n"
   ]
  },
  {
   "cell_type": "markdown",
   "metadata": {},
   "source": [
    "Berdasarkan pola yang diamati pada dataset, <b>kategori phishing (spam)</b> cenderung memiliki <b>karakter yang panjang</b>, sementara <b>kategori non-phishing (ham)</b> cenderung memiliki <b>karakter yang pendek."
   ]
  },
  {
   "cell_type": "markdown",
   "metadata": {},
   "source": [
    "## text preprocessing"
   ]
  },
  {
   "cell_type": "markdown",
   "metadata": {},
   "source": [
    "### inisialisasi kebutuhan"
   ]
  },
  {
   "cell_type": "code",
   "execution_count": 11,
   "metadata": {},
   "outputs": [
    {
     "name": "stderr",
     "output_type": "stream",
     "text": [
      "[nltk_data] Downloading package punkt to\n",
      "[nltk_data]     C:\\Users\\RanggaSaputra\\AppData\\Roaming\\nltk_data...\n",
      "[nltk_data]   Package punkt is already up-to-date!\n",
      "[nltk_data] Downloading package stopwords to\n",
      "[nltk_data]     C:\\Users\\RanggaSaputra\\AppData\\Roaming\\nltk_data...\n",
      "[nltk_data]   Package stopwords is already up-to-date!\n",
      "[nltk_data] Downloading package wordnet to\n",
      "[nltk_data]     C:\\Users\\RanggaSaputra\\AppData\\Roaming\\nltk_data...\n",
      "[nltk_data]   Package wordnet is already up-to-date!\n"
     ]
    },
    {
     "data": {
      "text/plain": [
       "True"
      ]
     },
     "execution_count": 11,
     "metadata": {},
     "output_type": "execute_result"
    }
   ],
   "source": [
    "# Ensure necessary NLTK resources are downloaded\n",
    "nltk.download('punkt')\n",
    "nltk.download('stopwords')\n",
    "nltk.download('wordnet')"
   ]
  },
  {
   "cell_type": "code",
   "execution_count": 12,
   "metadata": {},
   "outputs": [],
   "source": [
    "# Load stopwords once to improve efficiency\n",
    "STOPWORDS = set(stopwords.words('english'))"
   ]
  },
  {
   "cell_type": "code",
   "execution_count": 13,
   "metadata": {},
   "outputs": [],
   "source": [
    "# Initialize WordNetLemmatizer\n",
    "lemmatizer = WordNetLemmatizer()"
   ]
  },
  {
   "cell_type": "markdown",
   "metadata": {},
   "source": [
    "### fungsi preprocessing"
   ]
  },
  {
   "cell_type": "code",
   "execution_count": 14,
   "metadata": {},
   "outputs": [],
   "source": [
    "# Function to clean and preprocess URL data\n",
    "def preprocess_url(url):\n",
    "    url = url.lower()  # Convert to lowercase\n",
    "    url = re.sub(r'https?://', '', url)  # Remove http or https\n",
    "    url = re.sub(r'www\\.', '', url)  # Remove www\n",
    "    url = re.sub(r'[^a-zA-Z0-9]', ' ', url)  # Remove special characters\n",
    "    url = re.sub(r'\\s+', ' ', url).strip()  # Remove extra spaces\n",
    "    tokens = word_tokenize(url)  # Tokenize\n",
    "    tokens = [word for word in tokens if word not in STOPWORDS]  # Remove stopwords\n",
    "    tokens = [lemmatizer.lemmatize(word) for word in tokens]  # Lemmatization\n",
    "    return ' '.join(tokens)"
   ]
  },
  {
   "cell_type": "code",
   "execution_count": 15,
   "metadata": {},
   "outputs": [],
   "source": [
    "# Function to clean and preprocess HTML data\n",
    "def preprocess_html(html):\n",
    "    html = re.sub(r'<[^>]+>', ' ', html)  # Remove HTML tags\n",
    "    html = html.lower()  # Convert to lowercase\n",
    "    html = re.sub(r'https?://', '', html)  # Remove http or https\n",
    "    html = re.sub(r'[^a-zA-Z0-9]', ' ', html)  # Remove special characters\n",
    "    html = re.sub(r'\\s+', ' ', html).strip()  # Remove extra spaces\n",
    "    tokens = word_tokenize(html)  # Tokenize\n",
    "    tokens = [word for word in tokens if word not in STOPWORDS]  # Remove stopwords\n",
    "    tokens = [lemmatizer.lemmatize(word) for word in tokens]  # Lemmatization\n",
    "    return ' '.join(tokens)"
   ]
  },
  {
   "cell_type": "code",
   "execution_count": 16,
   "metadata": {},
   "outputs": [
    {
     "data": {
      "text/plain": [
       "0    logtelstra2021 ddnsking com 0dfa1b53b835500696...\n",
       "1    dvsber ru module mod ariimageslidersa krenk3n4...\n",
       "2    kimsinc564 000webhostapp com notification php ...\n",
       "3                                           benjim com\n",
       "4                                micesrunescape com ru\n",
       "Name: cleaned_data, dtype: object"
      ]
     },
     "execution_count": 16,
     "metadata": {},
     "output_type": "execute_result"
    }
   ],
   "source": [
    "# Clean URL 'Data' Columns\n",
    "url_df['cleaned_data'] = url_df['Data'].apply(preprocess_url)\n",
    "url_df['cleaned_data'].head()"
   ]
  },
  {
   "cell_type": "code",
   "execution_count": 17,
   "metadata": {},
   "outputs": [
    {
     "data": {
      "text/plain": [
       "0    send money pay online set merchant account pay...\n",
       "1    window wiz global data dpimgf false ep1ykd acc...\n",
       "2    url error talktalk co uk main participantid nm...\n",
       "3                                                     \n",
       "4    sign microsoft online service ie legacy displa...\n",
       "Name: cleaned_data, dtype: object"
      ]
     },
     "execution_count": 17,
     "metadata": {},
     "output_type": "execute_result"
    }
   ],
   "source": [
    "# Clean HTML 'Data' Columns\n",
    "html_df['cleaned_data'] = html_df['Data'].apply(preprocess_html)\n",
    "html_df['cleaned_data'].head()"
   ]
  },
  {
   "cell_type": "markdown",
   "metadata": {},
   "source": [
    "## Modeling"
   ]
  },
  {
   "cell_type": "markdown",
   "metadata": {},
   "source": [
    "### tokenizaning"
   ]
  },
  {
   "cell_type": "code",
   "execution_count": 18,
   "metadata": {},
   "outputs": [],
   "source": [
    "# Define the maximum length of sequences\n",
    "max_url_length = 180\n",
    "max_html_length = 2000\n",
    "\n",
    "# Define the maximum number of words/tokens\n",
    "max_words = 10000"
   ]
  },
  {
   "cell_type": "code",
   "execution_count": 19,
   "metadata": {},
   "outputs": [],
   "source": [
    "# URL Tokenization and Padding\n",
    "url_tokenizer = Tokenizer(num_words=max_words)\n",
    "url_tokenizer.fit_on_texts(url_df['cleaned_data'])\n",
    "url_sequences = url_tokenizer.texts_to_sequences(url_df['cleaned_data'])\n",
    "url_padded = pad_sequences(url_sequences, maxlen=max_url_length, \n",
    "                           padding='post', truncating='post')\n",
    "\n",
    "# HTML Tokenization and Padding\n",
    "html_tokenizer = Tokenizer(num_words=max_words)\n",
    "html_tokenizer.fit_on_texts(html_df['cleaned_data'])\n",
    "html_sequences = html_tokenizer.texts_to_sequences(html_df['cleaned_data'])\n",
    "html_padded = pad_sequences(html_sequences, maxlen=max_html_length, \n",
    "                            padding='post', truncating='post')"
   ]
  },
  {
   "cell_type": "markdown",
   "metadata": {},
   "source": [
    "### label encoder"
   ]
  },
  {
   "cell_type": "code",
   "execution_count": 20,
   "metadata": {},
   "outputs": [],
   "source": [
    "# Encode 'Category' column\n",
    "label_encoder = LabelEncoder()\n",
    "url_df['Category_Encoded'] = label_encoder.fit_transform(url_df['Category'])\n",
    "html_df['Category_Encoded'] = label_encoder.transform(html_df['Category'])  # Ensure HTML uses the same encoding as URL"
   ]
  },
  {
   "cell_type": "markdown",
   "metadata": {},
   "source": [
    "### split dataset"
   ]
  },
  {
   "cell_type": "code",
   "execution_count": 21,
   "metadata": {},
   "outputs": [],
   "source": [
    "# Split datasets into training and testing sets\n",
    "url_X_train, url_X_test, url_y_train, url_y_test = train_test_split(url_padded, url_df['Category_Encoded'], test_size=0.2, random_state=42)\n",
    "html_X_train, html_X_test, html_y_train, html_y_test = train_test_split(html_padded, html_df['Category_Encoded'], test_size=0.2, random_state=42)"
   ]
  },
  {
   "cell_type": "markdown",
   "metadata": {},
   "source": [
    "### model arsitektur"
   ]
  },
  {
   "cell_type": "code",
   "execution_count": 22,
   "metadata": {},
   "outputs": [],
   "source": [
    "def create_model():\n",
    "    # Adjusted hyperparameters\n",
    "    embedding_dim = 32 # Increased embedding dimension\n",
    "    conv_filters = 128  # Increased number of filters in convolutional layers\n",
    "    kernel_size = 10 # Increased kernel size\n",
    "    dense_units_1 = 128\n",
    "    dense_units_2 = 64\n",
    "    learning_rate = 0.0001  # Adjusted learning rate\n",
    "\n",
    "    # Model architecture\n",
    "    url_input = layers.Input(shape=(max_url_length,), name='url_input')\n",
    "    url_embedding = layers.Embedding(input_dim=min(max_words, len(url_tokenizer.word_index) + 1),\n",
    "                                     output_dim=embedding_dim, input_length=max_url_length, name='url_embedding')(url_input)\n",
    "    url_conv = layers.Conv1D(filters=conv_filters, kernel_size=kernel_size, activation='relu')(url_embedding)\n",
    "    url_pool = layers.MaxPooling1D(pool_size=2)(url_conv)\n",
    "    url_flat = layers.Flatten()(url_pool)\n",
    "\n",
    "    html_input = layers.Input(shape=(max_html_length,), name='html_input')\n",
    "    html_embedding = layers.Embedding(input_dim=min(max_words, len(html_tokenizer.word_index) + 1),\n",
    "                                      output_dim=embedding_dim, input_length=max_html_length, name='html_embedding')(html_input)\n",
    "    html_conv = layers.Conv1D(filters=conv_filters, kernel_size=kernel_size, activation='relu')(html_embedding)\n",
    "    html_pool = layers.MaxPooling1D(pool_size=2)(html_conv)\n",
    "    html_flat = layers.Flatten()(html_pool)\n",
    "\n",
    "    concatenated = layers.Concatenate(name='concatenate_layer')([url_flat, html_flat])\n",
    "    dense1 = layers.Dense(dense_units_1, activation='relu', name='dense1')(concatenated)\n",
    "    dense2 = layers.Dense(dense_units_2, activation='relu', name='dense2')(dense1)\n",
    "    output = layers.Dense(1, activation='sigmoid', name='output_layer')(dense2)\n",
    "\n",
    "    # Model compilation with directly imported metrics\n",
    "    model = models.Model(inputs=[url_input, html_input], outputs=output)\n",
    "    model.compile(optimizer=optimizers.Adam(learning_rate=learning_rate),\n",
    "                  loss='binary_crossentropy',\n",
    "                  metrics=['accuracy', Precision(), Recall()])\n",
    "\n",
    "    return model"
   ]
  },
  {
   "cell_type": "code",
   "execution_count": 23,
   "metadata": {},
   "outputs": [
    {
     "name": "stdout",
     "output_type": "stream",
     "text": [
      "Model: \"model\"\n",
      "__________________________________________________________________________________________________\n",
      " Layer (type)                Output Shape                 Param #   Connected to                  \n",
      "==================================================================================================\n",
      " url_input (InputLayer)      [(None, 180)]                0         []                            \n",
      "                                                                                                  \n",
      " html_input (InputLayer)     [(None, 2000)]               0         []                            \n",
      "                                                                                                  \n",
      " url_embedding (Embedding)   (None, 180, 32)              320000    ['url_input[0][0]']           \n",
      "                                                                                                  \n",
      " html_embedding (Embedding)  (None, 2000, 32)             320000    ['html_input[0][0]']          \n",
      "                                                                                                  \n",
      " conv1d (Conv1D)             (None, 171, 128)             41088     ['url_embedding[0][0]']       \n",
      "                                                                                                  \n",
      " conv1d_1 (Conv1D)           (None, 1991, 128)            41088     ['html_embedding[0][0]']      \n",
      "                                                                                                  \n",
      " max_pooling1d (MaxPooling1  (None, 85, 128)              0         ['conv1d[0][0]']              \n",
      " D)                                                                                               \n",
      "                                                                                                  \n",
      " max_pooling1d_1 (MaxPoolin  (None, 995, 128)             0         ['conv1d_1[0][0]']            \n",
      " g1D)                                                                                             \n",
      "                                                                                                  \n",
      " flatten (Flatten)           (None, 10880)                0         ['max_pooling1d[0][0]']       \n",
      "                                                                                                  \n",
      " flatten_1 (Flatten)         (None, 127360)               0         ['max_pooling1d_1[0][0]']     \n",
      "                                                                                                  \n",
      " concatenate_layer (Concate  (None, 138240)               0         ['flatten[0][0]',             \n",
      " nate)                                                               'flatten_1[0][0]']           \n",
      "                                                                                                  \n",
      " dense1 (Dense)              (None, 128)                  1769484   ['concatenate_layer[0][0]']   \n",
      "                                                          8                                       \n",
      "                                                                                                  \n",
      " dense2 (Dense)              (None, 64)                   8256      ['dense1[0][0]']              \n",
      "                                                                                                  \n",
      " output_layer (Dense)        (None, 1)                    65        ['dense2[0][0]']              \n",
      "                                                                                                  \n",
      "==================================================================================================\n",
      "Total params: 18425345 (70.29 MB)\n",
      "Trainable params: 18425345 (70.29 MB)\n",
      "Non-trainable params: 0 (0.00 Byte)\n",
      "__________________________________________________________________________________________________\n"
     ]
    }
   ],
   "source": [
    "# Create the model\n",
    "model = create_model()\n",
    "# Model Summary\n",
    "model.summary()"
   ]
  },
  {
   "cell_type": "markdown",
   "metadata": {},
   "source": [
    "### train model"
   ]
  },
  {
   "cell_type": "code",
   "execution_count": 24,
   "metadata": {},
   "outputs": [
    {
     "name": "stdout",
     "output_type": "stream",
     "text": [
      "Epoch 1/10\n",
      "4538/4538 [==============================] - 1466s 322ms/step - loss: 0.1476 - accuracy: 0.9413 - precision: 0.9414 - recall: 0.9414 - val_loss: 0.0531 - val_accuracy: 0.9801 - val_precision: 0.9848 - val_recall: 0.9750\n",
      "Epoch 2/10\n",
      "4538/4538 [==============================] - 1448s 319ms/step - loss: 0.0341 - accuracy: 0.9885 - precision: 0.9889 - recall: 0.9882 - val_loss: 0.0525 - val_accuracy: 0.9821 - val_precision: 0.9901 - val_recall: 0.9738\n",
      "Epoch 3/10\n",
      "4538/4538 [==============================] - 1468s 323ms/step - loss: 0.0152 - accuracy: 0.9951 - precision: 0.9949 - recall: 0.9953 - val_loss: 0.0460 - val_accuracy: 0.9839 - val_precision: 0.9840 - val_recall: 0.9836\n",
      "Epoch 4/10\n",
      "4538/4538 [==============================] - 1533s 338ms/step - loss: 0.0078 - accuracy: 0.9974 - precision: 0.9973 - recall: 0.9974 - val_loss: 0.0569 - val_accuracy: 0.9835 - val_precision: 0.9906 - val_recall: 0.9761\n",
      "Epoch 5/10\n",
      "4538/4538 [==============================] - 1516s 334ms/step - loss: 0.0056 - accuracy: 0.9983 - precision: 0.9982 - recall: 0.9985 - val_loss: 0.0554 - val_accuracy: 0.9852 - val_precision: 0.9826 - val_recall: 0.9878\n",
      "Epoch 6/10\n",
      "4538/4538 [==============================] - 1523s 336ms/step - loss: 0.0039 - accuracy: 0.9988 - precision: 0.9987 - recall: 0.9989 - val_loss: 0.0685 - val_accuracy: 0.9859 - val_precision: 0.9850 - val_recall: 0.9867\n",
      "Epoch 7/10\n",
      "4538/4538 [==============================] - 1537s 339ms/step - loss: 0.0036 - accuracy: 0.9989 - precision: 0.9988 - recall: 0.9990 - val_loss: 0.0668 - val_accuracy: 0.9861 - val_precision: 0.9856 - val_recall: 0.9865\n",
      "Epoch 8/10\n",
      "4538/4538 [==============================] - 1624s 358ms/step - loss: 0.0028 - accuracy: 0.9992 - precision: 0.9988 - recall: 0.9996 - val_loss: 0.0816 - val_accuracy: 0.9852 - val_precision: 0.9809 - val_recall: 0.9896\n",
      "Epoch 9/10\n",
      "4538/4538 [==============================] - 1506s 332ms/step - loss: 0.0020 - accuracy: 0.9992 - precision: 0.9990 - recall: 0.9993 - val_loss: 0.1097 - val_accuracy: 0.9848 - val_precision: 0.9890 - val_recall: 0.9803\n",
      "Epoch 10/10\n",
      "4538/4538 [==============================] - 1541s 340ms/step - loss: 0.0018 - accuracy: 0.9994 - precision: 0.9993 - recall: 0.9994 - val_loss: 0.1048 - val_accuracy: 0.9851 - val_precision: 0.9860 - val_recall: 0.9840\n"
     ]
    }
   ],
   "source": [
    "# Model Training\n",
    "history = model.fit(\n",
    "    [url_X_train, html_X_train],  # URL and HTML training data\n",
    "    url_y_train,\n",
    "    validation_data=([url_X_test, html_X_test], url_y_test),  # URL and HTML validation data\n",
    "    epochs=10,  # Number of epochs to train for\n",
    "    batch_size=8,  # Batch size for training\n",
    "    #callbacks=[early_stopping]  # Early stopping callback\n",
    ")"
   ]
  },
  {
   "cell_type": "code",
   "execution_count": 25,
   "metadata": {},
   "outputs": [
    {
     "name": "stderr",
     "output_type": "stream",
     "text": [
      "c:\\Users\\RanggaSaputra\\AppData\\Local\\Programs\\Python\\Python310\\lib\\site-packages\\keras\\src\\engine\\training.py:3079: UserWarning: You are saving your model as an HDF5 file via `model.save()`. This file format is considered legacy. We recommend using instead the native Keras format, e.g. `model.save('my_model.keras')`.\n",
      "  saving_api.save_model(\n"
     ]
    }
   ],
   "source": [
    "model.save(\"without_fasttext.h5\")"
   ]
  },
  {
   "cell_type": "markdown",
   "metadata": {},
   "source": [
    "### evaluasi"
   ]
  },
  {
   "cell_type": "code",
   "execution_count": 26,
   "metadata": {},
   "outputs": [
    {
     "data": {
      "text/html": [
       "<div>\n",
       "<style scoped>\n",
       "    .dataframe tbody tr th:only-of-type {\n",
       "        vertical-align: middle;\n",
       "    }\n",
       "\n",
       "    .dataframe tbody tr th {\n",
       "        vertical-align: top;\n",
       "    }\n",
       "\n",
       "    .dataframe thead th {\n",
       "        text-align: right;\n",
       "    }\n",
       "</style>\n",
       "<table border=\"1\" class=\"dataframe\">\n",
       "  <thead>\n",
       "    <tr style=\"text-align: right;\">\n",
       "      <th></th>\n",
       "      <th>loss</th>\n",
       "      <th>accuracy</th>\n",
       "      <th>precision</th>\n",
       "      <th>recall</th>\n",
       "      <th>val_loss</th>\n",
       "      <th>val_accuracy</th>\n",
       "      <th>val_precision</th>\n",
       "      <th>val_recall</th>\n",
       "    </tr>\n",
       "  </thead>\n",
       "  <tbody>\n",
       "    <tr>\n",
       "      <th>0</th>\n",
       "      <td>0.147569</td>\n",
       "      <td>0.941319</td>\n",
       "      <td>0.941403</td>\n",
       "      <td>0.941403</td>\n",
       "      <td>0.053075</td>\n",
       "      <td>0.980055</td>\n",
       "      <td>0.984774</td>\n",
       "      <td>0.974950</td>\n",
       "    </tr>\n",
       "    <tr>\n",
       "      <th>1</th>\n",
       "      <td>0.034097</td>\n",
       "      <td>0.988539</td>\n",
       "      <td>0.988932</td>\n",
       "      <td>0.988171</td>\n",
       "      <td>0.052513</td>\n",
       "      <td>0.982149</td>\n",
       "      <td>0.990083</td>\n",
       "      <td>0.973842</td>\n",
       "    </tr>\n",
       "    <tr>\n",
       "      <th>2</th>\n",
       "      <td>0.015165</td>\n",
       "      <td>0.995124</td>\n",
       "      <td>0.994940</td>\n",
       "      <td>0.995323</td>\n",
       "      <td>0.046043</td>\n",
       "      <td>0.983912</td>\n",
       "      <td>0.984032</td>\n",
       "      <td>0.983596</td>\n",
       "    </tr>\n",
       "    <tr>\n",
       "      <th>3</th>\n",
       "      <td>0.007770</td>\n",
       "      <td>0.997355</td>\n",
       "      <td>0.997304</td>\n",
       "      <td>0.997414</td>\n",
       "      <td>0.056868</td>\n",
       "      <td>0.983471</td>\n",
       "      <td>0.990551</td>\n",
       "      <td>0.976059</td>\n",
       "    </tr>\n",
       "    <tr>\n",
       "      <th>4</th>\n",
       "      <td>0.005637</td>\n",
       "      <td>0.998347</td>\n",
       "      <td>0.998185</td>\n",
       "      <td>0.998514</td>\n",
       "      <td>0.055433</td>\n",
       "      <td>0.985234</td>\n",
       "      <td>0.982580</td>\n",
       "      <td>0.987808</td>\n",
       "    </tr>\n",
       "    <tr>\n",
       "      <th>5</th>\n",
       "      <td>0.003872</td>\n",
       "      <td>0.998788</td>\n",
       "      <td>0.998680</td>\n",
       "      <td>0.998900</td>\n",
       "      <td>0.068468</td>\n",
       "      <td>0.985895</td>\n",
       "      <td>0.984952</td>\n",
       "      <td>0.986699</td>\n",
       "    </tr>\n",
       "    <tr>\n",
       "      <th>6</th>\n",
       "      <td>0.003560</td>\n",
       "      <td>0.998926</td>\n",
       "      <td>0.998845</td>\n",
       "      <td>0.999010</td>\n",
       "      <td>0.066795</td>\n",
       "      <td>0.986116</td>\n",
       "      <td>0.985604</td>\n",
       "      <td>0.986477</td>\n",
       "    </tr>\n",
       "    <tr>\n",
       "      <th>7</th>\n",
       "      <td>0.002770</td>\n",
       "      <td>0.999229</td>\n",
       "      <td>0.998845</td>\n",
       "      <td>0.999615</td>\n",
       "      <td>0.081585</td>\n",
       "      <td>0.985234</td>\n",
       "      <td>0.980883</td>\n",
       "      <td>0.989581</td>\n",
       "    </tr>\n",
       "    <tr>\n",
       "      <th>8</th>\n",
       "      <td>0.002032</td>\n",
       "      <td>0.999174</td>\n",
       "      <td>0.999010</td>\n",
       "      <td>0.999340</td>\n",
       "      <td>0.109730</td>\n",
       "      <td>0.984793</td>\n",
       "      <td>0.989040</td>\n",
       "      <td>0.980270</td>\n",
       "    </tr>\n",
       "    <tr>\n",
       "      <th>9</th>\n",
       "      <td>0.001751</td>\n",
       "      <td>0.999394</td>\n",
       "      <td>0.999340</td>\n",
       "      <td>0.999450</td>\n",
       "      <td>0.104800</td>\n",
       "      <td>0.985124</td>\n",
       "      <td>0.986006</td>\n",
       "      <td>0.984039</td>\n",
       "    </tr>\n",
       "  </tbody>\n",
       "</table>\n",
       "</div>"
      ],
      "text/plain": [
       "       loss  accuracy  precision    recall  val_loss  val_accuracy  \\\n",
       "0  0.147569  0.941319   0.941403  0.941403  0.053075      0.980055   \n",
       "1  0.034097  0.988539   0.988932  0.988171  0.052513      0.982149   \n",
       "2  0.015165  0.995124   0.994940  0.995323  0.046043      0.983912   \n",
       "3  0.007770  0.997355   0.997304  0.997414  0.056868      0.983471   \n",
       "4  0.005637  0.998347   0.998185  0.998514  0.055433      0.985234   \n",
       "5  0.003872  0.998788   0.998680  0.998900  0.068468      0.985895   \n",
       "6  0.003560  0.998926   0.998845  0.999010  0.066795      0.986116   \n",
       "7  0.002770  0.999229   0.998845  0.999615  0.081585      0.985234   \n",
       "8  0.002032  0.999174   0.999010  0.999340  0.109730      0.984793   \n",
       "9  0.001751  0.999394   0.999340  0.999450  0.104800      0.985124   \n",
       "\n",
       "   val_precision  val_recall  \n",
       "0       0.984774    0.974950  \n",
       "1       0.990083    0.973842  \n",
       "2       0.984032    0.983596  \n",
       "3       0.990551    0.976059  \n",
       "4       0.982580    0.987808  \n",
       "5       0.984952    0.986699  \n",
       "6       0.985604    0.986477  \n",
       "7       0.980883    0.989581  \n",
       "8       0.989040    0.980270  \n",
       "9       0.986006    0.984039  "
      ]
     },
     "execution_count": 26,
     "metadata": {},
     "output_type": "execute_result"
    }
   ],
   "source": [
    "# Menyimpan riwayat pelatihan ke dalam DataFrame\n",
    "history_df = pd.DataFrame(history.history)\n",
    "history_df"
   ]
  },
  {
   "cell_type": "code",
   "execution_count": 28,
   "metadata": {},
   "outputs": [
    {
     "name": "stdout",
     "output_type": "stream",
     "text": [
      "284/284 [==============================] - 22s 78ms/step\n"
     ]
    }
   ],
   "source": [
    "# Model Evaluation\n",
    "y_pred_prob = model.predict([url_X_test, html_X_test])\n",
    "y_pred = (y_pred_prob > 0.5).astype(int)"
   ]
  },
  {
   "cell_type": "code",
   "execution_count": 29,
   "metadata": {},
   "outputs": [
    {
     "data": {
      "image/png": "[encoded data removed]",
      "text/plain": [
       "<Figure size 800x600 with 2 Axes>"
      ]
     },
     "metadata": {},
     "output_type": "display_data"
    }
   ],
   "source": [
    "# Confusion Matrix\n",
    "conf_matrix = confusion_matrix(url_y_test, y_pred)\n",
    "plt.figure(figsize=(8, 6))\n",
    "sns.heatmap(conf_matrix, annot=True, fmt=\"d\", cmap=\"Blues\")\n",
    "plt.title(\"Model Confusion Matrix\", fontweight='bold')\n",
    "plt.xlabel(\"Predicted Label\")\n",
    "plt.ylabel(\"True Label\")\n",
    "plt.show()"
   ]
  },
  {
   "cell_type": "code",
   "execution_count": 30,
   "metadata": {},
   "outputs": [],
   "source": [
    "# Extracting values from the history object\n",
    "training_loss = history.history['loss']\n",
    "validation_loss = history.history['val_loss']\n",
    "training_accuracy = history.history['accuracy']\n",
    "validation_accuracy = history.history['val_accuracy']\n",
    "\n",
    "# Epochs range\n",
    "epochs_range = range(1, len(training_loss) + 1)"
   ]
  },
  {
   "cell_type": "code",
   "execution_count": 31,
   "metadata": {},
   "outputs": [
    {
     "data": {
      "image/png": "[encoded data removed]",
      "text/plain": [
       "<Figure size 1000x1000 with 2 Axes>"
      ]
     },
     "metadata": {},
     "output_type": "display_data"
    }
   ],
   "source": [
    "# Create subplots\n",
    "fig, axs = plt.subplots(2, figsize=(10, 10))\n",
    "\n",
    "# Plotting Training and Validation Loss\n",
    "axs[0].plot(epochs_range, training_loss, label='Training Loss')\n",
    "axs[0].plot(epochs_range, validation_loss, label='Validation Loss')\n",
    "axs[0].set_title('Training and Validation Loss', fontweight='bold')\n",
    "axs[0].set_xlabel('Epochs')\n",
    "axs[0].set_ylabel('Loss')\n",
    "axs[0].legend()\n",
    "\n",
    "# Plotting Training and Validation Accuracy\n",
    "axs[1].plot(epochs_range, training_accuracy, label='Training Accuracy')\n",
    "axs[1].plot(epochs_range, validation_accuracy, label='Validation Accuracy')\n",
    "axs[1].set_title('Training and Validation Accuracy', fontweight='bold')\n",
    "axs[1].set_xlabel('Epochs')\n",
    "axs[1].set_ylabel('Accuracy')\n",
    "axs[1].legend()\n",
    "\n",
    "plt.tight_layout()\n",
    "plt.show()"
   ]
  },
  {
   "cell_type": "markdown",
   "metadata": {},
   "source": [
    "## Test Model"
   ]
  },
  {
   "cell_type": "code",
   "execution_count": 32,
   "metadata": {},
   "outputs": [
    {
     "name": "stdout",
     "output_type": "stream",
     "text": [
      "1/1 [==============================] - 0s 62ms/step\n",
      "+--------------------------------------------------------------+---------------------------------------------------------------------------------------------------------+------------+-----------------------+--------------------+\n",
      "|                             URL                              |                                               HTML Snippet                                              |   Actual   | Predicted Probability | Predicted Category |\n",
      "+--------------------------------------------------------------+---------------------------------------------------------------------------------------------------------+------------+-----------------------+--------------------+\n",
      "| http://www.horadiadacompras.com/simples-login/entrar&hnuhgjb |  <html><head><title>Free Offer</title></head><body>Click here to claim your free phone</body></html>... |    Spam    |         1.0000        |        Spam        |\n",
      "|               https://portalnews.com/account/                | <!DOCTYPE html><html><head><title>News Update</title></head><body>Welcome to our news portal</body><... | Legitimate |         0.9999        |        Spam        |\n",
      "|               http://facebook-prize.com/offer/               | <html><head><script>var a=1; stealCredentials();</script></head><body>Login to see content</body></h... |    Spam    |         1.0000        |        Spam        |\n",
      "|       https://thediasuniversity.edu/our-achievements/        | <!DOCTYPE html><html lang=en><head><title>University of Thedias</title></head><body>Our Achievements... | Legitimate |         0.0084        |     Legitimate     |\n",
      "|          http://paypal-secure-account.blogspot.com/          | <html><head><title>Your Account Has Been Suspended</title></head><body>Please log in to verify your ... |    Spam    |         1.0000        |        Spam        |\n",
      "|               http://secure-login-paypal.com/                | <html><head><title>Secure Login</title></head><body>Please enter your PayPal credentials</body></htm... |    Spam    |         1.0000        |        Spam        |\n",
      "|               http://amazon-prime-offers.com/                | <html><head><title>Amazon Prime Offers</title></head><body>Click here to claim your Amazon Prime off... |    Spam    |         1.0000        |        Spam        |\n",
      "|           https://secure-bankofamerica.com/login/            | <html><head><title>Secure Login</title></head><body>Enter your Bank of America login details</body><... |    Spam    |         1.0000        |        Spam        |\n",
      "|               http://netflix-secure-login.com/               | <html><head><title>Netflix Login</title></head><body>Please enter your Netflix credentials</body></h... |    Spam    |         1.0000        |        Spam        |\n",
      "|                https://wellsfargo-secure.com/                | <html><head><title>Secure Login</title></head><body>Enter your Wells Fargo login details</body></htm... |    Spam    |         1.0000        |        Spam        |\n",
      "|                https://stanford.edu/research/                | <!DOCTYPE html><html lang=en><head><title>Stanford Research</title></head><body>Information about ou... | Legitimate |         0.0000        |     Legitimate     |\n",
      "|                  http://gmail-security.com/                  | <html><head><title>Gmail Security</title></head><body>Please enter your Gmail credentials</body></ht... |    Spam    |         0.9985        |        Spam        |\n",
      "|                 http://www.airbnb-login.com/                 | <html><head><title>Airbnb Login</title></head><body>Please enter your Airbnb credentials</body></htm... |    Spam    |         1.0000        |        Spam        |\n",
      "|               https://harvard.edu/admissions/                | <!DOCTYPE html><html lang=en><head><title>Harvard Admissions</title></head><body>Information about a... | Legitimate |         0.0692        |     Legitimate     |\n",
      "|                https://linkedin-security.com/                | <html><head><title>LinkedIn Security</title></head><body>Please enter your LinkedIn credentials</bod... |    Spam    |         0.7503        |        Spam        |\n",
      "|                  http://ebay-security.com/                   | <html><head><title>eBay Security</title></head><body>Please enter your eBay credentials</body></html... |    Spam    |         1.0000        |        Spam        |\n",
      "|                 https://paypal-security.com/                 | <html><head><title>PayPal Security</title></head><body>Please enter your PayPal credentials</body></... |    Spam    |         1.0000        |        Spam        |\n",
      "|              https://bankofamerica-secure.com/               | <html><head><title>Bank of America Security</title></head><body>Please enter your Bank of America cr... |    Spam    |         1.0000        |        Spam        |\n",
      "|              http://www.microsoft-security.com/              | <html><head><title>Microsoft Security</title></head><body>Please enter your Microsoft credentials</b... |    Spam    |         0.2650        |     Legitimate     |\n",
      "|                  https://apple-secure.com/                   | <html><head><title>Apple Security</title></head><body>Please enter your Apple credentials</body></ht... |    Spam    |         1.0000        |        Spam        |\n",
      "+--------------------------------------------------------------+---------------------------------------------------------------------------------------------------------+------------+-----------------------+--------------------+\n"
     ]
    }
   ],
   "source": [
    "# Define new benchmark data\n",
    "new_urls = [\n",
    "\"http://www.horadiadacompras.com/simples-login/entrar&hnuhgjb\",\n",
    "\"https://portalnews.com/account/\",\n",
    "\"http://facebook-prize.com/offer/\",\n",
    "\"https://thediasuniversity.edu/our-achievements/\",\n",
    "\"http://paypal-secure-account.blogspot.com/\",\n",
    "\"http://secure-login-paypal.com/\",\n",
    "\"http://amazon-prime-offers.com/\",\n",
    "\"https://secure-bankofamerica.com/login/\",\n",
    "\"http://netflix-secure-login.com/\",\n",
    "\"https://wellsfargo-secure.com/\",\n",
    "\"https://stanford.edu/research/\",\n",
    "\"http://gmail-security.com/\",\n",
    "\"http://www.airbnb-login.com/\",\n",
    "\"https://harvard.edu/admissions/\",\n",
    "\"https://linkedin-security.com/\",\n",
    "\"http://ebay-security.com/\",\n",
    "\"https://paypal-security.com/\",\n",
    "\"https://bankofamerica-secure.com/\",\n",
    "\"http://www.microsoft-security.com/\",\n",
    "\"https://apple-secure.com/\"\n",
    "]\n",
    "\n",
    "new_htmls = [\n",
    "\"<html><head><title>Free Offer</title></head><body>Click here to claim your free phone</body></html>\",\n",
    "\"<!DOCTYPE html><html><head><title>News Update</title></head><body>Welcome to our news portal</body></html>\",\n",
    "\"<html><head><script>var a=1; stealCredentials();</script></head><body>Login to see content</body></html>\",\n",
    "\"<!DOCTYPE html><html lang=en><head><title>University of Thedias</title></head><body>Our Achievements</body></html>\",\n",
    "\"<html><head><title>Your Account Has Been Suspended</title></head><body>Please log in to verify your account</body></html>\",\n",
    "\"<html><head><title>Secure Login</title></head><body>Please enter your PayPal credentials</body></html>\",\n",
    "\"<html><head><title>Amazon Prime Offers</title></head><body>Click here to claim your Amazon Prime offers</body></html>\",\n",
    "\"<html><head><title>Secure Login</title></head><body>Enter your Bank of America login details</body></html>\",\n",
    "\"<html><head><title>Netflix Login</title></head><body>Please enter your Netflix credentials</body></html>\",\n",
    "\"<html><head><title>Secure Login</title></head><body>Enter your Wells Fargo login details</body></html>\",\n",
    "\"<!DOCTYPE html><html lang=en><head><title>Stanford Research</title></head><body>Information about our research</body></html>\",\n",
    "\"<html><head><title>Gmail Security</title></head><body>Please enter your Gmail credentials</body></html>\",\n",
    "\"<html><head><title>Airbnb Login</title></head><body>Please enter your Airbnb credentials</body></html>\",\n",
    "\"<!DOCTYPE html><html lang=en><head><title>Harvard Admissions</title></head><body>Information about admissions</body></html>\",\n",
    "\"<html><head><title>LinkedIn Security</title></head><body>Please enter your LinkedIn credentials</body></html>\",\n",
    "\"<html><head><title>eBay Security</title></head><body>Please enter your eBay credentials</body></html>\",\n",
    "\"<html><head><title>PayPal Security</title></head><body>Please enter your PayPal credentials</body></html>\",\n",
    "\"<html><head><title>Bank of America Security</title></head><body>Please enter your Bank of America credentials</body></html>\",\n",
    "\"<html><head><title>Microsoft Security</title></head><body>Please enter your Microsoft credentials</body></html>\",\n",
    "\"<html><head><title>Apple Security</title></head><body>Please enter your Apple credentials</body></html>\"\n",
    "]\n",
    "\n",
    "actual_categories = [\"spam\", \"ham\", \"spam\", \"ham\", \"spam\", \"spam\", \"spam\", \"spam\", \"spam\", \"spam\", \"ham\", \"spam\", \"spam\", \"ham\", \"spam\", \"spam\", \"spam\", \"spam\", \"spam\", \"spam\"]\n",
    "\n",
    "# Preprocess the new benchmark data\n",
    "cleaned_urls = [preprocess_url(url) for url in new_urls]\n",
    "cleaned_htmls = [preprocess_html(html) for html in new_htmls]\n",
    "\n",
    "# Tokenize and pad\n",
    "new_url_sequences = url_tokenizer.texts_to_sequences(cleaned_urls)\n",
    "new_url_padded = pad_sequences(new_url_sequences, maxlen=max_url_length, padding='post', truncating='post')\n",
    "\n",
    "new_html_sequences = html_tokenizer.texts_to_sequences(cleaned_htmls)\n",
    "new_html_padded = pad_sequences(new_html_sequences, maxlen=max_html_length, padding='post', truncating='post')\n",
    "\n",
    "# Make predictions with the model\n",
    "new_predictions_prob = model.predict([new_url_padded, new_html_padded])\n",
    "new_predictions = (new_predictions_prob > 0.5).astype(int)\n",
    "\n",
    "# Define the table\n",
    "table = PrettyTable()\n",
    "table.field_names = [\"URL\", \"HTML Snippet\", \"Actual\", \"Predicted Probability\", \"Predicted Category\"]\n",
    "\n",
    "# Populate the table\n",
    "for i, (url, html) in enumerate(zip(new_urls, new_htmls)):\n",
    "    html_snippet = html[:100] + \"...\"  # Displaying a snippet for brevity\n",
    "    actual_category = \"Spam\" if actual_categories[i] == \"spam\" else \"Legitimate\"\n",
    "    predicted_category = \"Spam\" if new_predictions[i][0] == 1 else \"Legitimate\"\n",
    "    table.add_row([url, html_snippet, actual_category, f\"{new_predictions_prob[i][0]:.4f}\", predicted_category])\n",
    "\n",
    "# Print the table\n",
    "print(table)"
   ]
  },
  {
   "cell_type": "markdown",
   "metadata": {},
   "source": [
    "## Model with Embedding fasttext"
   ]
  },
  {
   "cell_type": "markdown",
   "metadata": {},
   "source": [
    "### label encoder"
   ]
  },
  {
   "cell_type": "code",
   "execution_count": 27,
   "metadata": {},
   "outputs": [],
   "source": [
    "# Encode 'Category' column\n",
    "label_encoder = LabelEncoder()\n",
    "url_df['Category_Encoded'] = label_encoder.fit_transform(url_df['Category'])\n",
    "html_df['Category_Encoded'] = label_encoder.transform(html_df['Category'])  # Ensure HTML uses the same encoding as URL"
   ]
  },
  {
   "cell_type": "markdown",
   "metadata": {},
   "source": [
    "### split dataset"
   ]
  },
  {
   "cell_type": "code",
   "execution_count": null,
   "metadata": {},
   "outputs": [],
   "source": []
  },
  {
   "cell_type": "markdown",
   "metadata": {},
   "source": [
    "### embedding with fast text"
   ]
  },
  {
   "cell_type": "code",
   "execution_count": 28,
   "metadata": {},
   "outputs": [],
   "source": [
    "def create_embedding_matrix(vocab_and_vectors, word_index, embedding_dim):\n",
    "    num_words = len(word_index) + 1\n",
    "    embedding_matrix = np.zeros((num_words, embedding_dim))\n",
    "    for word, i in word_index.items():\n",
    "        if i >= num_words:\n",
    "            continue\n",
    "        vector = vocab_and_vectors.get(word)\n",
    "        if vector is not None:\n",
    "            embedding_matrix[i] = vector\n",
    "    return embedding_matrix"
   ]
  },
  {
   "cell_type": "code",
   "execution_count": 29,
   "metadata": {},
   "outputs": [],
   "source": [
    "# Dimensi embedding FastText\n",
    "embedding_dim = 300"
   ]
  },
  {
   "cell_type": "code",
   "execution_count": 41,
   "metadata": {},
   "outputs": [],
   "source": [
    "import gzip\n",
    "\n",
    "# Mendownload model FastText\n",
    "url = 'https://dl.fbaipublicfiles.com/fasttext/vectors-crawl/cc.en.300.vec.gz'\n",
    "\n",
    "\n",
    "with gzip.open(urlopen(url), 'rt', encoding='utf-8') as file:\n",
    "    vocab_and_vectors = {}  # memetakan kata ke vektor\n",
    "    for line in file:\n",
    "        values = line.split()\n",
    "        word = values[0]\n",
    "        vector = np.asarray(values[1:], dtype='float32')\n",
    "        vocab_and_vectors[word] = vector\n",
    "\n",
    "# Membuat embedding matrix\n",
    "embedding_matrix = create_embedding_matrix(vocab_and_vectors, url_tokenizer.word_index, embedding_dim)"
   ]
  },
  {
   "cell_type": "code",
   "execution_count": 48,
   "metadata": {},
   "outputs": [
    {
     "data": {
      "text/plain": [
       "61601"
      ]
     },
     "execution_count": 48,
     "metadata": {},
     "output_type": "execute_result"
    }
   ],
   "source": [
    "example_word = list(word_index.keys())\n",
    "len(example_word)"
   ]
  },
  {
   "cell_type": "code",
   "execution_count": 39,
   "metadata": {},
   "outputs": [
    {
     "data": {
      "text/plain": [
       "'e'"
      ]
     },
     "execution_count": 39,
     "metadata": {},
     "output_type": "execute_result"
    }
   ],
   "source": [
    "example_word = list(word_index.keys())[1]\n",
    "example_word"
   ]
  },
  {
   "cell_type": "code",
   "execution_count": 32,
   "metadata": {},
   "outputs": [
    {
     "name": "stdout",
     "output_type": "stream",
     "text": [
      "Original Text:\n",
      " logtelstra2021 ddnsking com 0dfa1b53b835500696e9a1f02cd1f464\n",
      "\n",
      "Indexed Sequence:\n",
      " [6, 3, 3, 12, 1, 7, 2, 6, 17, 1, 3, 10, 19, 1, 15, 6, 9, 12, 1, 10, 17, 5, 20, 32, 32, 26]\n",
      "\n",
      "Padded Sequence:\n",
      " [[ 0  0  0  0  0  0  0  0  0  0  0  0  0  0  0  0  0  0  0  0  0  0  0  0\n",
      "   0  0  0  0  0  0  0  0  0  0  0  0  0  0  0  0  0  0  0  0  0  0  0  0\n",
      "   0  0  0  0  0  0  0  0  0  0  0  0  0  0  0  0  0  0  0  0  0  0  0  0\n",
      "   0  0  0  0  0  0  0  0  0  0  0  0  0  0  0  0  0  0  0  0  0  0  0  0\n",
      "   0  0  0  0  0  0  0  0  0  0  0  0  0  0  0  0  0  0  0  0  0  0  0  0\n",
      "   0  0  0  0  0  0  0  0  0  0  0  0  0  0  0  0  0  0  0  0  0  0  0  0\n",
      "   0  0  0  0  0  0  0  0  0  0  6  3  3 12  1  7  2  6 17  1  3 10 19  1\n",
      "  15  6  9 12  1 10 17  5 20 32 32 26]]\n",
      "\n",
      "Example Word Embedding for ' ':\n",
      " None\n"
     ]
    }
   ],
   "source": [
    "# Display an example of word indexing\n",
    "print(\"Original Text:\\n\", url_df['cleaned_data'][-1])\n",
    "print(\"\\nIndexed Sequence:\\n\", url_sequences[-1])\n",
    "\n",
    "# Display an example of padded sequence\n",
    "X_padded = pad_sequences([url_sequences[-1]], maxlen=max_url_length)\n",
    "print(\"\\nPadded Sequence:\\n\", X_padded)\n",
    "\n",
    "# Display an example of word embedding\n",
    "word_index = url_tokenizer.word_index\n",
    "example_word = list(word_index.keys())[0]\n",
    "example_embedding = vocab_and_vectors.get(example_word)\n",
    "print(\"\\nExample Word Embedding for '{}':\\n\".format(example_word), example_embedding)"
   ]
  },
  {
   "cell_type": "code",
   "execution_count": null,
   "metadata": {},
   "outputs": [],
   "source": []
  }
 ],
 "metadata": {
  "kernelspec": {
   "display_name": "Python 3",
   "language": "python",
   "name": "python3"
  },
  "language_info": {
   "codemirror_mode": {
    "name": "ipython",
    "version": 3
   },
   "file_extension": ".py",
   "mimetype": "text/x-python",
   "name": "python",
   "nbconvert_exporter": "python",
   "pygments_lexer": "ipython3",
   "version": "3.10.7"
  }
 },
 "nbformat": 4,
 "nbformat_minor": 2
}
